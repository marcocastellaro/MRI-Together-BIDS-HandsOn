{
  "nbformat": 4,
  "nbformat_minor": 0,
  "metadata": {
    "colab": {
      "name": "Image Data Conversion / How to Work with BIDs: Hands-On/Interactive Session",
      "provenance": [],
      "collapsed_sections": [],
      "authorship_tag": "ABX9TyM8s39e8w1+GWr+fm12lkiQ",
      "include_colab_link": true
    },
    "kernelspec": {
      "name": "python3",
      "display_name": "Python 3"
    },
    "language_info": {
      "name": "python"
    }
  },
  "cells": [
    {
      "cell_type": "markdown",
      "metadata": {
        "id": "view-in-github",
        "colab_type": "text"
      },
      "source": [
        "<a href=\"https://colab.research.google.com/github/marcocastellaro/MRI-Together-BIDS-HandsOn/blob/main/Image_Data_Conversion_How_to_Work_with_BIDs_Hands_On_Interactive_Session.ipynb\" target=\"_parent\"><img src=\"https://colab.research.google.com/assets/colab-badge.svg\" alt=\"Open In Colab\"/></a>"
      ]
    },
    {
      "cell_type": "markdown",
      "metadata": {
        "id": "mwZ-fEA2hZ63"
      },
      "source": [
        "# Image Data Conversion / How to Work with BIDs: Hands-On/Interactive Session\n",
        "\n",
        "\n",
        "---\n",
        "\n",
        "\n",
        "Prerequisite for this Hand-On toolbox are [dcm2niix](https://github.com/rordenlab/dcm2niix) and [dcm2bids](https://unfmontreal.github.io/Dcm2Bids/).\n",
        "\n",
        "\n",
        "First step is to install `dcm2niix` from the *rodenlab* repository on github. For this Hands-On workshop we are going to download the latest release with the `curl` command and install it in this *Google Colaborative notebook*. If you want to test it in your local environment please refer to how to install dcm2niix for your platform [LINK](https://github.com/rordenlab/dcm2niix#install).\n",
        "\n",
        "Second step is to install `dcm2bids` using pip. If you want to test it in you local environment please refer to the [setup tutorial](https://unfmontreal.github.io/Dcm2Bids/docs/2-tutorial/#setup) secion on the `dcm2bids` page.\n",
        "\n",
        "Google colab default language is python, however please note that it is possible to provide also shell command to it. Indeed, the command with `!` prefix are passed to the shell and run directly on the notebook environment. If you need a deeper walktrought on the shell features of google colab please have a look to this [YouTube video](https://www.youtube.com/watch?v=E54volo2B2s)."
      ]
    },
    {
      "cell_type": "code",
      "metadata": {
        "id": "oxUHpHUvq9G-"
      },
      "source": [
        "!curl -fLO https://github.com/rordenlab/dcm2niix/releases/latest/download/dcm2niix_lnx.zip\n",
        "!unzip -o dcm2niix_lnx.zip\n",
        "!mv dcm2niix /bin\n",
        "!pip install dcm2bids"
      ],
      "execution_count": null,
      "outputs": []
    },
    {
      "cell_type": "markdown",
      "source": [
        "# Get the sample dataset and organize the file for the conversion\n",
        "\n",
        "---\n",
        "\n",
        "\n",
        "We provide a DICOM anonymized anatomical dataset to test the DICOM to BIDS conversion. The dataset comprise structural `T1w` MPRAGE sequences taken in three different sessions for two subjects *001* and *002*. \n",
        "\n",
        "We use `wget` to dowload the dataset shared within a dropbox folder. \n",
        "\n",
        "You can get the dataset [HERE](https://www.dropbox.com/s/nxzgxdwhwfzfmvg/ExampleDataset.zip) to further try the conversion on your local machine.\n",
        "\n",
        "We create a /content/DICOM folder in the google colab notebook disk and we unzip the downloaded dateset to be further processed."
      ],
      "metadata": {
        "id": "qnP8Y-A_jN6N"
      }
    },
    {
      "cell_type": "code",
      "source": [
        "!wget https://www.dropbox.com/s/1wvaed0fc8rqvsh/ExampleDataset.zip\n",
        "!mkdir DICOM\n",
        "!unzip -d /content/DICOM -o /content/ExampleDataset.zip "
      ],
      "metadata": {
        "id": "WPfkZFcMhMCu"
      },
      "execution_count": null,
      "outputs": []
    },
    {
      "cell_type": "markdown",
      "source": [
        "To explore how the dataset has been collected and select the DICOM that can be converted to BIDS format we can firstly use `dcm2bids_helper` that will do the conversion with `dcm2niix` and will provide an example NIFTI and json pair to investigate wheter the json has the `REQUIRED`, `RECCOMMENDED` and `OPTIONAL` fields we need.\n",
        "\n",
        "\n"
      ],
      "metadata": {
        "id": "1MRM3-cxxM14"
      }
    },
    {
      "cell_type": "code",
      "source": [
        "!dcm2bids_helper -d /content/DICOM/ExampleDataset/001 -o /content/NIFTI\n",
        "!cat /content/NIFTI/tmp_dcm2bids/helper/002_001_T1_mprage_20161103185731.json"
      ],
      "metadata": {
        "id": "AKOtqoyRqH9p"
      },
      "execution_count": null,
      "outputs": []
    },
    {
      "cell_type": "markdown",
      "source": [
        "Now that the DICOM files have been extracted we need to write a configuration file for `dcm2bids`. To write a file in the google colab folder you can use the `%%writefile` command on top of the cell you want to write to the file. \n",
        "\n",
        "The configuration file contains important information on how to match DICOM files in the original dataset with BIDS MRI modality. It is formatted as a `json` file and there are mandatory fields like \n",
        "\n",
        "\n",
        ">`dataType` that indicates the type of image the DICOM contains (`anat`, `func`, `dwi`, `perfusion`, etc.)\n",
        "\n",
        ">`modalityLabel` that indicates, in the case of anatomy imaging data, the suffix and hence the contast of the sequence acquired (`T1w`, `T2w`, `PDw`, `T2starw`, etc.)\n",
        "\n",
        "\n",
        "You can find more information on the Anatomy Imaging Data BIDS specification [HERE](https://bids-specification.readthedocs.io/en/stable/04-modality-specific-files/01-magnetic-resonance-imaging-data.html#anatomy-imaging-data).\n",
        "\n",
        "In this case we know that the dataset is made of anatomical images acquired with the MPRAGE sequence, hence we need to find a way to match the NIFTI converted from dcm2niix with the datatype, the modality we need. To do so, we need to introduce the criteria field the will look in the filename of the converted NIFTI file for a pattern, in this case we will use the wildcard character `*` and the pattern `T1_mprage` to perform the match.\n",
        "\n",
        "The criteria field will be applied to the `SeriesDescription` field of the json and will link the correspondent NIFTI file. \n"
      ],
      "metadata": {
        "id": "o0UPehEzrao7"
      }
    },
    {
      "cell_type": "code",
      "source": [
        "%%writefile dcm2bids_config.json\n",
        "{\n",
        "    \"descriptions\": [\n",
        "        {\n",
        "        \"dataType\": \"anat\",\n",
        "        \"modalityLabel\" : \"T1w\",\n",
        "        \"criteria\": {\n",
        "            \"SeriesDescription\": \"*T1_mprage*\"\n",
        "            }\n",
        "        }\n",
        "    ]\n",
        "}"
      ],
      "metadata": {
        "id": "YN7JfUSb4mv2"
      },
      "execution_count": null,
      "outputs": []
    },
    {
      "cell_type": "markdown",
      "source": [
        "## Use dcm2bids to perform an automatic conversion to BIDS compatible dataset directly from DICOM\n",
        "\n",
        "Here we use `dcm2bids` separately for each subject of the dataset, with extra parameters:\n",
        "\n",
        "`dcm2bids` `-d` DICOM_Folder `-p` ID_SUB `-c` dcm2bids_configuration.json `-o` output_folder"
      ],
      "metadata": {
        "id": "1bXUwOT2ySJw"
      }
    },
    {
      "cell_type": "code",
      "source": [
        "!rm -rf /content/BIDS_dataset \n",
        "!rm -rf /content/NIFTI\n",
        "!rm -rf /content/tmp_dcm2bids\n",
        "!rm -rf /content/sub*\n",
        "\n",
        "!dcm2bids  -d /content/DICOM/ExampleDataset/001/Ses1 -p 001 -s 001 -c /content/dcm2bids_config.json -o /content/BIDS_dataset\n",
        "!dcm2bids  -d /content/DICOM/ExampleDataset/001/Ses2 -p 001 -s 002 -c /content/dcm2bids_config.json -o /content/BIDS_dataset\n",
        "!dcm2bids  -d /content/DICOM/ExampleDataset/001/Ses3 -p 001 -s 003 -c /content/dcm2bids_config.json -o /content/BIDS_dataset\n",
        "!dcm2bids  -d /content/DICOM/ExampleDataset/002/Ses1 -p 002 -s 001 -c /content/dcm2bids_config.json -o /content/BIDS_dataset\n",
        "!dcm2bids  -d /content/DICOM/ExampleDataset/002/Ses2 -p 002 -s 002 -c /content/dcm2bids_config.json -o /content/BIDS_dataset\n",
        "!dcm2bids  -d /content/DICOM/ExampleDataset/002/Ses3 -p 002 -s 003 -c /content/dcm2bids_config.json -o /content/BIDS_dataset\n"
      ],
      "metadata": {
        "id": "4nutLFqK5Hcu"
      },
      "execution_count": null,
      "outputs": []
    },
    {
      "cell_type": "markdown",
      "source": [
        "We can now have a look to an exaple json sidecar that has been created by `dcm2bids`."
      ],
      "metadata": {
        "id": "YNPtqn54mfVl"
      }
    },
    {
      "cell_type": "code",
      "source": [
        "!cat /content/BIDS_dataset/sub-001/anat/sub-001_run-01_T1w.json"
      ],
      "metadata": {
        "id": "Ta7hQ0JXmdlR",
        "colab": {
          "base_uri": "https://localhost:8080/"
        },
        "outputId": "d5328d8d-a66c-4e70-c29a-2b6815734c64"
      },
      "execution_count": null,
      "outputs": [
        {
          "output_type": "stream",
          "name": "stdout",
          "text": [
            "cat: /content/BIDS_dataset/sub-001/anat/sub-001_run-01_T1w.json: No such file or directory\n"
          ]
        }
      ]
    },
    {
      "cell_type": "markdown",
      "source": [
        "## BIDS Validator\n",
        "\n",
        "The BIDS Validator is a Javascript app written in Node.js that can be used to validate a BIDS dataset, in other words it tells you whether your dataset is complyant with the BIDS specifications. It is a web based app and in princple it is not necessary to install it locally but you can use directly this [LINK](http://bids-standard.github.io/bids-validator/).\n",
        "\n",
        "We will try now to validate the dcm2bids automated created dataset to see if it has done a good job.\n",
        "\n",
        "First of all, we need to download the dataset, to facilitate this operation, we can zip the `BIDS_dataset` folder, download it, inflated it and feed the whole directory to the validator."
      ],
      "metadata": {
        "id": "gLzyeN8IakU7"
      }
    },
    {
      "cell_type": "code",
      "source": [
        "!rm -rf /content/BIDS_dataset/tmp_dcm2bids\n",
        "!cd /content; zip -r /content/BIDS_dataset.zip ./BIDS_dataset;"
      ],
      "metadata": {
        "id": "KzrNEwZsbmBz"
      },
      "execution_count": null,
      "outputs": []
    },
    {
      "cell_type": "markdown",
      "source": [
        "\n",
        "\n",
        "###1.   Download the zipped dataset folder on your laptop\n",
        "\n",
        "<img src='https://drive.google.com/uc?id=1N1CS97h_ZQY8XKc54soDcGS6gzAgiRz5' height=400 >\n",
        "\n",
        "###2.   Inflate the zip locally\n",
        "###3.   Upload the folder in the BIDS validator web based app.\n",
        "\n",
        "<img src='https://drive.google.com/uc?id=1OSWVqjKYGCSBDUJz3Da7AYAN2aeddGVz' height=250 >\n",
        "\n"
      ],
      "metadata": {
        "id": "QnQE9cdwcIdd"
      }
    },
    {
      "cell_type": "markdown",
      "source": [
        "## Write Modality agnostic files \n",
        " The BIDS dataset we created was missing of some mandatory files, hence we got both errors and warnings from the BIDS validator.\n",
        " \n",
        " Modality agnostic files are required to be included in each BIDS dataset to assure that the dataset can be shared and re-used respecting the idea of the open science manifesto and to let scientist to reproduce the work done by other goups in the most transparent way. (more information [HERE](https://bids-specification.readthedocs.io/en/stable/03-modality-agnostic-files.html))\n",
        "\n",
        "` dataset_description.json` is a JSON file describing the dataset. Every dataset MUST include this file with the following fields: \n",
        "\n",
        "<br>\n",
        "<table align=\"left\"> \n",
        "  <tr>\n",
        "    <th>Key name</th>\n",
        "    <th>Requirement level</th>\n",
        "    <th>Data type</th>\n",
        "    <th>Description</th>\n",
        "  </tr>\n",
        "  <tr>\n",
        "    <td>Name</td>\n",
        "    <td>REQUIRED</td>\n",
        "    <td>string</td>\n",
        "    <td>Name of the dataset.</td>\n",
        "  </tr>\n",
        "  <tr>\n",
        "    <td>BIDSVersion</td>\n",
        "    <td>REQUIRED</td>\n",
        "    <td>string</td>\n",
        "    <td>The version of the BIDS standard that was used.</td>\n",
        "</table>\n",
        "<br>\n",
        "<br>\n",
        "<br>\n",
        "<br>\n",
        "\n",
        "`participants.tsv` include informations of each participants and can be further described by an optional file called `participants.json`\n",
        "\n",
        "\n",
        "`README` In addition a free form text file (README) describing the dataset in more details SHOULD be provided. The README file MUST be either in ASCII or UTF-8 encoding."
      ],
      "metadata": {
        "id": "7L6JHsPNzMRJ"
      }
    },
    {
      "cell_type": "code",
      "source": [
        "%%writefile BIDS_dataset/participants.tsv\n",
        "participant_id\n",
        "sub-001 \n",
        "sub-002"
      ],
      "metadata": {
        "id": "9zDKRRdEJN-A"
      },
      "execution_count": null,
      "outputs": []
    },
    {
      "cell_type": "code",
      "source": [
        "%%writefile BIDS_dataset/dataset_description.json\n",
        "{\n",
        "  \"Name\": \"Bids Workshop\",\n",
        "  \"BIDSVersion\":  \"1.6.0\",\n",
        "  \"Authors\": [\n",
        "    \"Marco Castellaro\",\n",
        "    \"Patricia Clement\"\n",
        "  ]\n",
        "}"
      ],
      "metadata": {
        "id": "d5bxCoxrJlpl"
      },
      "execution_count": null,
      "outputs": []
    },
    {
      "cell_type": "code",
      "source": [
        "%%writefile BIDS_dataset/README\n",
        "This dataset is release for use in BIDS workshop. "
      ],
      "metadata": {
        "colab": {
          "base_uri": "https://localhost:8080/"
        },
        "id": "fsaKy7FqZnR7",
        "outputId": "c596e21a-4a8a-42cc-ac72-1bb1f52d5e50"
      },
      "execution_count": null,
      "outputs": [
        {
          "output_type": "stream",
          "name": "stdout",
          "text": [
            "Writing BIDS_dataset/README\n"
          ]
        }
      ]
    },
    {
      "cell_type": "markdown",
      "source": [
        "We can now repeat the zip and download operation and the validation procedure that will produce no errors or warnings."
      ],
      "metadata": {
        "id": "jww6qCVufQqP"
      }
    },
    {
      "cell_type": "code",
      "source": [
        "!rm -rf /content/BIDS_dataset/tmp_dcm2bids\n",
        "!cd /content; zip -r /content/BIDS_dataset.zip ./BIDS_dataset;"
      ],
      "metadata": {
        "id": "4GKIb58oLB26"
      },
      "execution_count": null,
      "outputs": []
    }
  ]
}